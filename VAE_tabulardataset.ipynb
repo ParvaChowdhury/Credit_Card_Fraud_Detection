{
 "cells": [
  {
   "cell_type": "code",
   "execution_count": 2,
   "id": "9dbc45d2",
   "metadata": {},
   "outputs": [],
   "source": [
    "# import libraries\n",
    "import numpy as np\n",
    "import pandas as pd\n",
    "import seaborn as sns\n",
    "import matplotlib.pyplot as plt\n",
    "from sklearn.model_selection import train_test_split\n",
    "from sklearn.preprocessing import StandardScaler\n",
    "import tensorflow as tf\n",
    "from tensorflow.keras.layers import Input, Dense, Lambda\n",
    "from tensorflow.keras.models import Model\n",
    "from tensorflow.keras import backend as K\n",
    "from tensorflow.keras import metrics\n",
    "from tensorflow.keras import regularizers"
   ]
  },
  {
   "cell_type": "code",
   "execution_count": 3,
   "id": "6c1dffcd",
   "metadata": {},
   "outputs": [],
   "source": [
    "# Set Environment Variables\n",
    "%matplotlib inline\n",
    "RANDOM_SEED = 27\n",
    "LABELS = [\"Normal\", \"Fraud\"]"
   ]
  },
  {
   "cell_type": "code",
   "execution_count": 4,
   "id": "9bf62cda",
   "metadata": {},
   "outputs": [
    {
     "data": {
      "text/html": [
       "<div>\n",
       "<style scoped>\n",
       "    .dataframe tbody tr th:only-of-type {\n",
       "        vertical-align: middle;\n",
       "    }\n",
       "\n",
       "    .dataframe tbody tr th {\n",
       "        vertical-align: top;\n",
       "    }\n",
       "\n",
       "    .dataframe thead th {\n",
       "        text-align: right;\n",
       "    }\n",
       "</style>\n",
       "<table border=\"1\" class=\"dataframe\">\n",
       "  <thead>\n",
       "    <tr style=\"text-align: right;\">\n",
       "      <th></th>\n",
       "      <th>Time</th>\n",
       "      <th>V1</th>\n",
       "      <th>V2</th>\n",
       "      <th>V3</th>\n",
       "      <th>V4</th>\n",
       "      <th>V5</th>\n",
       "      <th>V6</th>\n",
       "      <th>V7</th>\n",
       "      <th>V8</th>\n",
       "      <th>V9</th>\n",
       "      <th>...</th>\n",
       "      <th>V21</th>\n",
       "      <th>V22</th>\n",
       "      <th>V23</th>\n",
       "      <th>V24</th>\n",
       "      <th>V25</th>\n",
       "      <th>V26</th>\n",
       "      <th>V27</th>\n",
       "      <th>V28</th>\n",
       "      <th>Amount</th>\n",
       "      <th>Class</th>\n",
       "    </tr>\n",
       "  </thead>\n",
       "  <tbody>\n",
       "    <tr>\n",
       "      <th>0</th>\n",
       "      <td>0.0</td>\n",
       "      <td>-1.359807</td>\n",
       "      <td>-0.072781</td>\n",
       "      <td>2.536347</td>\n",
       "      <td>1.378155</td>\n",
       "      <td>-0.338321</td>\n",
       "      <td>0.462388</td>\n",
       "      <td>0.239599</td>\n",
       "      <td>0.098698</td>\n",
       "      <td>0.363787</td>\n",
       "      <td>...</td>\n",
       "      <td>-0.018307</td>\n",
       "      <td>0.277838</td>\n",
       "      <td>-0.110474</td>\n",
       "      <td>0.066928</td>\n",
       "      <td>0.128539</td>\n",
       "      <td>-0.189115</td>\n",
       "      <td>0.133558</td>\n",
       "      <td>-0.021053</td>\n",
       "      <td>149.62</td>\n",
       "      <td>0</td>\n",
       "    </tr>\n",
       "    <tr>\n",
       "      <th>1</th>\n",
       "      <td>0.0</td>\n",
       "      <td>1.191857</td>\n",
       "      <td>0.266151</td>\n",
       "      <td>0.166480</td>\n",
       "      <td>0.448154</td>\n",
       "      <td>0.060018</td>\n",
       "      <td>-0.082361</td>\n",
       "      <td>-0.078803</td>\n",
       "      <td>0.085102</td>\n",
       "      <td>-0.255425</td>\n",
       "      <td>...</td>\n",
       "      <td>-0.225775</td>\n",
       "      <td>-0.638672</td>\n",
       "      <td>0.101288</td>\n",
       "      <td>-0.339846</td>\n",
       "      <td>0.167170</td>\n",
       "      <td>0.125895</td>\n",
       "      <td>-0.008983</td>\n",
       "      <td>0.014724</td>\n",
       "      <td>2.69</td>\n",
       "      <td>0</td>\n",
       "    </tr>\n",
       "    <tr>\n",
       "      <th>2</th>\n",
       "      <td>1.0</td>\n",
       "      <td>-1.358354</td>\n",
       "      <td>-1.340163</td>\n",
       "      <td>1.773209</td>\n",
       "      <td>0.379780</td>\n",
       "      <td>-0.503198</td>\n",
       "      <td>1.800499</td>\n",
       "      <td>0.791461</td>\n",
       "      <td>0.247676</td>\n",
       "      <td>-1.514654</td>\n",
       "      <td>...</td>\n",
       "      <td>0.247998</td>\n",
       "      <td>0.771679</td>\n",
       "      <td>0.909412</td>\n",
       "      <td>-0.689281</td>\n",
       "      <td>-0.327642</td>\n",
       "      <td>-0.139097</td>\n",
       "      <td>-0.055353</td>\n",
       "      <td>-0.059752</td>\n",
       "      <td>378.66</td>\n",
       "      <td>0</td>\n",
       "    </tr>\n",
       "    <tr>\n",
       "      <th>3</th>\n",
       "      <td>1.0</td>\n",
       "      <td>-0.966272</td>\n",
       "      <td>-0.185226</td>\n",
       "      <td>1.792993</td>\n",
       "      <td>-0.863291</td>\n",
       "      <td>-0.010309</td>\n",
       "      <td>1.247203</td>\n",
       "      <td>0.237609</td>\n",
       "      <td>0.377436</td>\n",
       "      <td>-1.387024</td>\n",
       "      <td>...</td>\n",
       "      <td>-0.108300</td>\n",
       "      <td>0.005274</td>\n",
       "      <td>-0.190321</td>\n",
       "      <td>-1.175575</td>\n",
       "      <td>0.647376</td>\n",
       "      <td>-0.221929</td>\n",
       "      <td>0.062723</td>\n",
       "      <td>0.061458</td>\n",
       "      <td>123.50</td>\n",
       "      <td>0</td>\n",
       "    </tr>\n",
       "    <tr>\n",
       "      <th>4</th>\n",
       "      <td>2.0</td>\n",
       "      <td>-1.158233</td>\n",
       "      <td>0.877737</td>\n",
       "      <td>1.548718</td>\n",
       "      <td>0.403034</td>\n",
       "      <td>-0.407193</td>\n",
       "      <td>0.095921</td>\n",
       "      <td>0.592941</td>\n",
       "      <td>-0.270533</td>\n",
       "      <td>0.817739</td>\n",
       "      <td>...</td>\n",
       "      <td>-0.009431</td>\n",
       "      <td>0.798278</td>\n",
       "      <td>-0.137458</td>\n",
       "      <td>0.141267</td>\n",
       "      <td>-0.206010</td>\n",
       "      <td>0.502292</td>\n",
       "      <td>0.219422</td>\n",
       "      <td>0.215153</td>\n",
       "      <td>69.99</td>\n",
       "      <td>0</td>\n",
       "    </tr>\n",
       "  </tbody>\n",
       "</table>\n",
       "<p>5 rows × 31 columns</p>\n",
       "</div>"
      ],
      "text/plain": [
       "   Time        V1        V2        V3        V4        V5        V6        V7  \\\n",
       "0   0.0 -1.359807 -0.072781  2.536347  1.378155 -0.338321  0.462388  0.239599   \n",
       "1   0.0  1.191857  0.266151  0.166480  0.448154  0.060018 -0.082361 -0.078803   \n",
       "2   1.0 -1.358354 -1.340163  1.773209  0.379780 -0.503198  1.800499  0.791461   \n",
       "3   1.0 -0.966272 -0.185226  1.792993 -0.863291 -0.010309  1.247203  0.237609   \n",
       "4   2.0 -1.158233  0.877737  1.548718  0.403034 -0.407193  0.095921  0.592941   \n",
       "\n",
       "         V8        V9  ...       V21       V22       V23       V24       V25  \\\n",
       "0  0.098698  0.363787  ... -0.018307  0.277838 -0.110474  0.066928  0.128539   \n",
       "1  0.085102 -0.255425  ... -0.225775 -0.638672  0.101288 -0.339846  0.167170   \n",
       "2  0.247676 -1.514654  ...  0.247998  0.771679  0.909412 -0.689281 -0.327642   \n",
       "3  0.377436 -1.387024  ... -0.108300  0.005274 -0.190321 -1.175575  0.647376   \n",
       "4 -0.270533  0.817739  ... -0.009431  0.798278 -0.137458  0.141267 -0.206010   \n",
       "\n",
       "        V26       V27       V28  Amount  Class  \n",
       "0 -0.189115  0.133558 -0.021053  149.62      0  \n",
       "1  0.125895 -0.008983  0.014724    2.69      0  \n",
       "2 -0.139097 -0.055353 -0.059752  378.66      0  \n",
       "3 -0.221929  0.062723  0.061458  123.50      0  \n",
       "4  0.502292  0.219422  0.215153   69.99      0  \n",
       "\n",
       "[5 rows x 31 columns]"
      ]
     },
     "execution_count": 4,
     "metadata": {},
     "output_type": "execute_result"
    }
   ],
   "source": [
    "df = pd.read_csv(\"creditcard.csv\")\n",
    "df.head()"
   ]
  },
  {
   "cell_type": "code",
   "execution_count": 5,
   "id": "4514bcb4",
   "metadata": {},
   "outputs": [
    {
     "name": "stdout",
     "output_type": "stream",
     "text": [
      "V1         0.010273\n",
      "V2        -0.007151\n",
      "V3         0.010612\n",
      "V4        -0.005127\n",
      "V5         0.003601\n",
      "V6         0.002339\n",
      "V7         0.009724\n",
      "V8        -0.000476\n",
      "V9         0.005126\n",
      "V10        0.010565\n",
      "V11       -0.008178\n",
      "V12        0.008239\n",
      "V13       -0.000493\n",
      "V14        0.011237\n",
      "V15        0.000019\n",
      "V16        0.006060\n",
      "V17        0.013083\n",
      "V18        0.004112\n",
      "V19       -0.002380\n",
      "V20       -0.000682\n",
      "V21       -0.000163\n",
      "V22        0.000740\n",
      "V23        0.000664\n",
      "V24        0.000062\n",
      "V25       -0.000077\n",
      "V26       -0.000596\n",
      "V27        0.000168\n",
      "V28       -0.000408\n",
      "Amount    88.565269\n",
      "dtype: float64\n",
      "V1          1.925243\n",
      "V2          1.630730\n",
      "V3          1.461476\n",
      "V4          1.399370\n",
      "V5          1.356850\n",
      "V6          1.329395\n",
      "V7          1.181756\n",
      "V8          1.164516\n",
      "V9          1.091195\n",
      "V10         1.044384\n",
      "V11         1.004542\n",
      "V12         0.948007\n",
      "V13         0.996642\n",
      "V14         0.899984\n",
      "V15         0.915696\n",
      "V16         0.846508\n",
      "V17         0.753978\n",
      "V18         0.825109\n",
      "V19         0.812298\n",
      "V20         0.767562\n",
      "V21         0.719601\n",
      "V22         0.723346\n",
      "V23         0.613196\n",
      "V24         0.605723\n",
      "V25         0.520679\n",
      "V26         0.482494\n",
      "V27         0.400130\n",
      "V28         0.328112\n",
      "Amount    250.523103\n",
      "dtype: float64\n"
     ]
    }
   ],
   "source": [
    "# Time is irrelevant\n",
    "df2 = df.drop(['Time'], axis=1)\n",
    "# Standardize Amount\n",
    "#df2['Amount'] = StandardScaler().fit_transform(df2['Amount'].values.reshape(-1, 1))\n",
    "# split data\n",
    "X_train, X_test = train_test_split(df2, test_size=0.2, random_state=RANDOM_SEED)\n",
    "# Train on Normal (Class=0)\n",
    "X_train = X_train[X_train.Class == 0]\n",
    "# \"Class\" variable is not needed\n",
    "X_train = X_train.drop(['Class'], axis=1)\n",
    "# test data\n",
    "y_test = X_test['Class']\n",
    "X_test = X_test.drop(['Class'], axis=1)\n",
    "\n",
    "# Standardize data based on mean & sd of X_train\n",
    "mean = X_train.mean(axis=0)\n",
    "std = X_train.std(axis=0)\n",
    "X_train = (X_train - mean) / std\n",
    "X_test = (X_test - mean) / std\n",
    "\n",
    "# convert to numpy\n",
    "X_train = X_train.to_numpy()\n",
    "X_test = X_test.to_numpy()\n",
    "y_test = y_test.to_numpy()\n",
    "\n",
    "print(mean)\n",
    "print(std)"
   ]
  },
  {
   "cell_type": "code",
   "execution_count": 10,
   "id": "a536017f",
   "metadata": {},
   "outputs": [
    {
     "name": "stdout",
     "output_type": "stream",
     "text": [
      "[-7.55191998e-17  5.43082229e-17  2.99952578e-16  4.59050524e-17\n",
      "  1.18081727e-17  2.18669865e-17  1.65689281e-16 -1.07773005e-18\n",
      "  2.37412996e-18  3.02732809e-16 -1.17332002e-16 -1.29327606e-17\n",
      " -9.52775841e-18 -7.74091322e-17 -2.22418491e-17  2.06174444e-18\n",
      " -2.37256804e-16 -3.98603926e-17  6.24771043e-19 -5.99155430e-17\n",
      " -4.60300066e-17 -3.69864458e-17  2.69901091e-17 -3.85483734e-17\n",
      " -3.59243350e-17 -2.47409333e-17 -2.99890101e-18  1.24329438e-17\n",
      "  7.05447728e-14]\n",
      "[0.9999978 0.9999978 0.9999978 0.9999978 0.9999978 0.9999978 0.9999978\n",
      " 0.9999978 0.9999978 0.9999978 0.9999978 0.9999978 0.9999978 0.9999978\n",
      " 0.9999978 0.9999978 0.9999978 0.9999978 0.9999978 0.9999978 0.9999978\n",
      " 0.9999978 0.9999978 0.9999978 0.9999978 0.9999978 0.9999978 0.9999978\n",
      " 0.9999978]\n",
      "[-9.64158338e-03  6.78752177e-03 -3.24662393e-03 -3.59966298e-03\n",
      "  2.35552828e-03 -1.54444756e-03 -8.79391841e-03 -9.22211456e-04\n",
      " -7.35124705e-03 -1.33556197e-02  1.48988153e-02  9.97076818e-04\n",
      "  3.49648368e-03 -9.50247775e-03  6.48869271e-04 -3.01560699e-03\n",
      " -2.75224071e-02 -6.88988737e-03  8.92019961e-03  9.17948948e-04\n",
      " -4.83306828e-03 -5.24170336e-03 -4.40043464e-03  6.16679414e-04\n",
      "  9.71779295e-06  5.54725446e-03 -4.84147425e-03  4.42877718e-03\n",
      " -5.17441194e-03]\n",
      "[1.02628299 1.02604567 1.03196499 1.01352347 1.01808642 1.00395152\n",
      " 1.03709438 1.02066717 1.00051883 1.0417988  1.0120436  1.0540898\n",
      " 0.99249789 1.0578918  0.997155   1.03081945 1.11720803 1.01597647\n",
      " 0.99920307 1.01363431 1.01251711 1.00566246 1.06797884 1.00025696\n",
      " 1.00079697 0.99711556 1.0030835  1.0232095  0.99201608]\n"
     ]
    }
   ],
   "source": [
    "# check standardization of the data\n",
    "print(np.mean(X_train,axis=0))\n",
    "print(np.std(X_train,axis=0))\n",
    "print(np.mean(X_test,axis=0))\n",
    "print(np.std(X_test,axis=0))"
   ]
  },
  {
   "cell_type": "markdown",
   "id": "c123f40d",
   "metadata": {},
   "source": [
    "# Fraud Detection"
   ]
  },
  {
   "cell_type": "markdown",
   "id": "cc760ed4",
   "metadata": {},
   "source": [
    "## (1) Set Up Variational Autoencoder Network"
   ]
  },
  {
   "cell_type": "code",
   "execution_count": 11,
   "id": "6b2cd8e9",
   "metadata": {},
   "outputs": [],
   "source": [
    "import tensorflow as tf\n",
    "from tensorflow.keras.layers import Input, Dense, Lambda\n",
    "from tensorflow.keras.models import Model\n",
    "from tensorflow.keras import backend as K\n",
    "from tensorflow.keras import metrics\n",
    "from tensorflow.keras import regularizers"
   ]
  },
  {
   "cell_type": "code",
   "execution_count": 49,
   "id": "39c4f41e",
   "metadata": {},
   "outputs": [],
   "source": [
    "# defining the key parameters\n",
    "batch_size = 100\n",
    "original_dim = 29\n",
    "latent_dim = 5\n",
    "intermediate_dim1 = 20\n",
    "intermediate_dim2 = 10\n",
    "epochs = 50\n",
    "epsilon_std = 1.0"
   ]
  },
  {
   "cell_type": "code",
   "execution_count": 50,
   "id": "550e637c",
   "metadata": {},
   "outputs": [],
   "source": [
    "# sampling from mean and sd in VAE\n",
    "def sampling(args: tuple):\n",
    "    # we grab the variables from the tuple\n",
    "    epsilon = K.random_normal(shape=(K.shape(z_mean)[0], latent_dim), mean=0.,\n",
    "                              stddev=epsilon_std)\n",
    "    return z_mean + K.exp(z_log_var / 2) * epsilon"
   ]
  },
  {
   "cell_type": "code",
   "execution_count": 51,
   "id": "c81649be",
   "metadata": {},
   "outputs": [
    {
     "name": "stdout",
     "output_type": "stream",
     "text": [
      "Model: \"encoder\"\n",
      "__________________________________________________________________________________________________\n",
      " Layer (type)                   Output Shape         Param #     Connected to                     \n",
      "==================================================================================================\n",
      " input (InputLayer)             [(None, 29)]         0           []                               \n",
      "                                                                                                  \n",
      " encoding1 (Dense)              (None, 20)           600         ['input[0][0]']                  \n",
      "                                                                                                  \n",
      " encoding (Dense)               (None, 10)           210         ['encoding1[0][0]']              \n",
      "                                                                                                  \n",
      " mean (Dense)                   (None, 5)            55          ['encoding[0][0]']               \n",
      "                                                                                                  \n",
      " log-variance (Dense)           (None, 5)            55          ['encoding[0][0]']               \n",
      "                                                                                                  \n",
      " lambda_1 (Lambda)              (None, 5)            0           ['mean[0][0]',                   \n",
      "                                                                  'log-variance[0][0]']           \n",
      "                                                                                                  \n",
      "==================================================================================================\n",
      "Total params: 920\n",
      "Trainable params: 920\n",
      "Non-trainable params: 0\n",
      "__________________________________________________________________________________________________\n"
     ]
    }
   ],
   "source": [
    "#########################\n",
    "# input to our encoder\n",
    "#########################\n",
    "x = Input(shape=(original_dim,), name=\"input\")\n",
    "# intermediate layer\n",
    "#h1 = Dense(intermediate_dim1, activation='tanh', name=\"encoding1\")(x)\n",
    "h1 = Dense(intermediate_dim1, activation=\"tanh\", name=\"encoding1\", activity_regularizer=regularizers.l1(10e-5))(x)\n",
    "h = Dense(intermediate_dim2, activation='relu', name=\"encoding\")(h1)\n",
    "# defining the mean of the latent space\n",
    "z_mean = Dense(latent_dim, name=\"mean\")(h)\n",
    "# defining the log variance of the latent space\n",
    "z_log_var = Dense(latent_dim, name=\"log-variance\")(h)\n",
    "# note that \"output_shape\" isn't necessary with the TensorFlow backend\n",
    "z = Lambda(sampling, output_shape=(latent_dim,))([z_mean, z_log_var])\n",
    "# defining the encoder as a keras model\n",
    "encoder = Model(x, [z_mean, z_log_var, z], name=\"encoder\")\n",
    "# print out summary of what we just did\n",
    "encoder.summary()"
   ]
  },
  {
   "cell_type": "code",
   "execution_count": 52,
   "id": "1e207751",
   "metadata": {},
   "outputs": [
    {
     "name": "stdout",
     "output_type": "stream",
     "text": [
      "Model: \"decoder\"\n",
      "_________________________________________________________________\n",
      " Layer (type)                Output Shape              Param #   \n",
      "=================================================================\n",
      " decoder_input (InputLayer)  [(None, 5)]               0         \n",
      "                                                                 \n",
      " decoder_h2 (Dense)          (None, 10)                60        \n",
      "                                                                 \n",
      " decoder_h (Dense)           (None, 20)                220       \n",
      "                                                                 \n",
      " flat_decoded (Dense)        (None, 29)                609       \n",
      "                                                                 \n",
      "=================================================================\n",
      "Total params: 889\n",
      "Trainable params: 889\n",
      "Non-trainable params: 0\n",
      "_________________________________________________________________\n"
     ]
    }
   ],
   "source": [
    "#########################\n",
    "# Input to the decoder\n",
    "#########################\n",
    "input_decoder = Input(shape=(latent_dim,), name=\"decoder_input\")\n",
    "# taking the latent space to intermediate dimension\n",
    "decoder_h1 = Dense(intermediate_dim2, activation='relu', name=\"decoder_h2\")(input_decoder)\n",
    "decoder_h = Dense(intermediate_dim1, activation='relu', name=\"decoder_h\")(decoder_h1)\n",
    "# getting the mean from the original dimension\n",
    "x_decoded = Dense(original_dim, activation='tanh', name=\"flat_decoded\")(decoder_h)\n",
    "# defining the decoder as a keras model\n",
    "decoder = Model(input_decoder, x_decoded, name=\"decoder\")\n",
    "decoder.summary()\n",
    "     "
   ]
  },
  {
   "cell_type": "code",
   "execution_count": 16,
   "id": "4fcdb506",
   "metadata": {},
   "outputs": [
    {
     "name": "stdout",
     "output_type": "stream",
     "text": [
      "Model: \"model\"\n",
      "_________________________________________________________________\n",
      " Layer (type)                Output Shape              Param #   \n",
      "=================================================================\n",
      " input (InputLayer)          [(None, 29)]              0         \n",
      "                                                                 \n",
      " encoder (Functional)        [(None, 5),               920       \n",
      "                              (None, 5),                         \n",
      "                              (None, 5)]                         \n",
      "                                                                 \n",
      " decoder (Functional)        (None, 29)                889       \n",
      "                                                                 \n",
      "=================================================================\n",
      "Total params: 1,809\n",
      "Trainable params: 1,809\n",
      "Non-trainable params: 0\n",
      "_________________________________________________________________\n"
     ]
    }
   ],
   "source": [
    "# Variational Autoencoder\n",
    "# grab the output. Recall, that we need to grab the 3rd element our sampling z\n",
    "output_combined = decoder(encoder(x)[2])\n",
    "# link the input and the overall output\n",
    "vae = Model(x, output_combined)\n",
    "# print out what the overall model looks like\n",
    "vae.summary()"
   ]
  },
  {
   "cell_type": "code",
   "execution_count": 17,
   "id": "df67a957",
   "metadata": {},
   "outputs": [],
   "source": [
    "# Define VAE Loss Function\n",
    "def vae_loss(x: tf.Tensor, x_decoded_mean: tf.Tensor,z_log_var=z_log_var, z_mean=z_mean, original_dim=original_dim):\n",
    "    xent_loss = original_dim * metrics.binary_crossentropy(x, x_decoded_mean)\n",
    "    kl_loss = - 0.5 * K.sum(1 + z_log_var - K.square(z_mean) - K.exp(z_log_var), axis=-1)\n",
    "    vae_loss = K.mean(xent_loss + kl_loss)\n",
    "    return vae_loss"
   ]
  },
  {
   "cell_type": "code",
   "execution_count": 18,
   "id": "a682a21d",
   "metadata": {},
   "outputs": [],
   "source": [
    "vae.compile(optimizer='adam', loss='mean_squared_error', metrics=['accuracy'])"
   ]
  },
  {
   "cell_type": "markdown",
   "id": "de60103f",
   "metadata": {},
   "source": [
    "## (2) Train Neural Network  "
   ]
  },
  {
   "cell_type": "code",
   "execution_count": 19,
   "id": "be38b83a",
   "metadata": {},
   "outputs": [
    {
     "name": "stdout",
     "output_type": "stream",
     "text": [
      "Epoch 1/100\n",
      "2275/2275 [==============================] - 4s 1ms/step - loss: 0.8026 - accuracy: 0.1967 - val_loss: 0.7639 - val_accuracy: 0.2267\n",
      "Epoch 2/100\n",
      "2275/2275 [==============================] - 3s 1ms/step - loss: 0.6977 - accuracy: 0.2259 - val_loss: 0.7285 - val_accuracy: 0.2373\n",
      "Epoch 3/100\n",
      "2275/2275 [==============================] - 3s 1ms/step - loss: 0.6698 - accuracy: 0.2547 - val_loss: 0.7046 - val_accuracy: 0.2664\n",
      "Epoch 4/100\n",
      "2275/2275 [==============================] - 3s 1ms/step - loss: 0.6517 - accuracy: 0.2748 - val_loss: 0.6904 - val_accuracy: 0.2801\n",
      "Epoch 5/100\n",
      "2275/2275 [==============================] - 3s 1ms/step - loss: 0.6406 - accuracy: 0.2913 - val_loss: 0.6810 - val_accuracy: 0.2995\n",
      "Epoch 6/100\n",
      "2275/2275 [==============================] - 3s 1ms/step - loss: 0.6327 - accuracy: 0.3001 - val_loss: 0.6759 - val_accuracy: 0.3073\n",
      "Epoch 7/100\n",
      "2275/2275 [==============================] - 3s 1ms/step - loss: 0.6274 - accuracy: 0.3095 - val_loss: 0.6714 - val_accuracy: 0.3201\n",
      "Epoch 8/100\n",
      "2275/2275 [==============================] - 3s 1ms/step - loss: 0.6205 - accuracy: 0.3286 - val_loss: 0.6620 - val_accuracy: 0.3311\n",
      "Epoch 9/100\n",
      "2275/2275 [==============================] - 3s 1ms/step - loss: 0.6124 - accuracy: 0.3336 - val_loss: 0.6560 - val_accuracy: 0.3355\n",
      "Epoch 10/100\n",
      "2275/2275 [==============================] - 3s 1ms/step - loss: 0.6073 - accuracy: 0.3349 - val_loss: 0.6502 - val_accuracy: 0.3392\n",
      "Epoch 11/100\n",
      "2275/2275 [==============================] - 3s 1ms/step - loss: 0.6030 - accuracy: 0.3346 - val_loss: 0.6483 - val_accuracy: 0.3428\n",
      "Epoch 12/100\n",
      "2275/2275 [==============================] - 3s 1ms/step - loss: 0.5996 - accuracy: 0.3364 - val_loss: 0.6444 - val_accuracy: 0.3363\n",
      "Epoch 13/100\n",
      "2275/2275 [==============================] - 3s 1ms/step - loss: 0.5960 - accuracy: 0.3344 - val_loss: 0.6406 - val_accuracy: 0.3323\n",
      "Epoch 14/100\n",
      "2275/2275 [==============================] - 3s 1ms/step - loss: 0.5926 - accuracy: 0.3344 - val_loss: 0.6381 - val_accuracy: 0.3328\n",
      "Epoch 15/100\n",
      "2275/2275 [==============================] - 3s 1ms/step - loss: 0.5898 - accuracy: 0.3347 - val_loss: 0.6355 - val_accuracy: 0.3395\n",
      "Epoch 16/100\n",
      "2275/2275 [==============================] - 3s 1ms/step - loss: 0.5877 - accuracy: 0.3364 - val_loss: 0.6331 - val_accuracy: 0.3367\n",
      "Epoch 17/100\n",
      "2275/2275 [==============================] - 3s 1ms/step - loss: 0.5854 - accuracy: 0.3373 - val_loss: 0.6313 - val_accuracy: 0.3335\n",
      "Epoch 18/100\n",
      "2275/2275 [==============================] - 3s 1ms/step - loss: 0.5837 - accuracy: 0.3388 - val_loss: 0.6298 - val_accuracy: 0.3416\n",
      "Epoch 19/100\n",
      "2275/2275 [==============================] - 3s 1ms/step - loss: 0.5819 - accuracy: 0.3404 - val_loss: 0.6278 - val_accuracy: 0.3436\n",
      "Epoch 20/100\n",
      "2275/2275 [==============================] - 3s 1ms/step - loss: 0.5807 - accuracy: 0.3397 - val_loss: 0.6266 - val_accuracy: 0.3485\n",
      "Epoch 21/100\n",
      "2275/2275 [==============================] - 3s 1ms/step - loss: 0.5793 - accuracy: 0.3393 - val_loss: 0.6242 - val_accuracy: 0.3500\n",
      "Epoch 22/100\n",
      "2275/2275 [==============================] - 3s 1ms/step - loss: 0.5780 - accuracy: 0.3408 - val_loss: 0.6242 - val_accuracy: 0.3510\n",
      "Epoch 23/100\n",
      "2275/2275 [==============================] - 3s 1ms/step - loss: 0.5769 - accuracy: 0.3408 - val_loss: 0.6217 - val_accuracy: 0.3449\n",
      "Epoch 24/100\n",
      "2275/2275 [==============================] - 3s 1ms/step - loss: 0.5757 - accuracy: 0.3408 - val_loss: 0.6210 - val_accuracy: 0.3448\n",
      "Epoch 25/100\n",
      "2275/2275 [==============================] - 3s 1ms/step - loss: 0.5743 - accuracy: 0.3433 - val_loss: 0.6193 - val_accuracy: 0.3497\n",
      "Epoch 26/100\n",
      "2275/2275 [==============================] - 3s 1ms/step - loss: 0.5736 - accuracy: 0.3447 - val_loss: 0.6187 - val_accuracy: 0.3517\n",
      "Epoch 27/100\n",
      "2275/2275 [==============================] - 3s 1ms/step - loss: 0.5725 - accuracy: 0.3471 - val_loss: 0.6219 - val_accuracy: 0.3463\n",
      "Epoch 28/100\n",
      "2275/2275 [==============================] - 3s 1ms/step - loss: 0.5716 - accuracy: 0.3470 - val_loss: 0.6170 - val_accuracy: 0.3485\n",
      "Epoch 29/100\n",
      "2275/2275 [==============================] - 3s 1ms/step - loss: 0.5708 - accuracy: 0.3488 - val_loss: 0.6156 - val_accuracy: 0.3579\n",
      "Epoch 30/100\n",
      "2275/2275 [==============================] - 3s 1ms/step - loss: 0.5701 - accuracy: 0.3500 - val_loss: 0.6149 - val_accuracy: 0.3530\n",
      "Epoch 31/100\n",
      "2275/2275 [==============================] - 3s 1ms/step - loss: 0.5691 - accuracy: 0.3510 - val_loss: 0.6144 - val_accuracy: 0.3537\n",
      "Epoch 32/100\n",
      "2275/2275 [==============================] - 3s 1ms/step - loss: 0.5685 - accuracy: 0.3512 - val_loss: 0.6137 - val_accuracy: 0.3501\n",
      "Epoch 33/100\n",
      "2275/2275 [==============================] - 3s 1ms/step - loss: 0.5680 - accuracy: 0.3511 - val_loss: 0.6136 - val_accuracy: 0.3582\n",
      "Epoch 34/100\n",
      "2275/2275 [==============================] - 3s 1ms/step - loss: 0.5675 - accuracy: 0.3512 - val_loss: 0.6129 - val_accuracy: 0.3608\n",
      "Epoch 35/100\n",
      "2275/2275 [==============================] - 3s 1ms/step - loss: 0.5666 - accuracy: 0.3526 - val_loss: 0.6123 - val_accuracy: 0.3525\n",
      "Epoch 36/100\n",
      "2275/2275 [==============================] - 3s 1ms/step - loss: 0.5658 - accuracy: 0.3542 - val_loss: 0.6113 - val_accuracy: 0.3606\n",
      "Epoch 37/100\n",
      "2275/2275 [==============================] - 3s 1ms/step - loss: 0.5649 - accuracy: 0.3546 - val_loss: 0.6095 - val_accuracy: 0.3607\n",
      "Epoch 38/100\n",
      "2275/2275 [==============================] - 3s 1ms/step - loss: 0.5643 - accuracy: 0.3546 - val_loss: 0.6093 - val_accuracy: 0.3562\n",
      "Epoch 39/100\n",
      "2275/2275 [==============================] - 3s 1ms/step - loss: 0.5634 - accuracy: 0.3561 - val_loss: 0.6110 - val_accuracy: 0.3613\n",
      "Epoch 40/100\n",
      "2275/2275 [==============================] - 3s 1ms/step - loss: 0.5627 - accuracy: 0.3571 - val_loss: 0.6084 - val_accuracy: 0.3676\n",
      "Epoch 41/100\n",
      "2275/2275 [==============================] - 3s 1ms/step - loss: 0.5624 - accuracy: 0.3571 - val_loss: 0.6069 - val_accuracy: 0.3625\n",
      "Epoch 42/100\n",
      "2275/2275 [==============================] - 3s 1ms/step - loss: 0.5617 - accuracy: 0.3579 - val_loss: 0.6066 - val_accuracy: 0.3625\n",
      "Epoch 43/100\n",
      "2275/2275 [==============================] - 2s 1ms/step - loss: 0.5612 - accuracy: 0.3582 - val_loss: 0.6063 - val_accuracy: 0.3688\n",
      "Epoch 44/100\n",
      "2275/2275 [==============================] - 3s 1ms/step - loss: 0.5608 - accuracy: 0.3585 - val_loss: 0.6059 - val_accuracy: 0.3633\n",
      "Epoch 45/100\n",
      "2275/2275 [==============================] - 3s 1ms/step - loss: 0.5598 - accuracy: 0.3598 - val_loss: 0.6051 - val_accuracy: 0.3636\n",
      "Epoch 46/100\n",
      "2275/2275 [==============================] - 3s 1ms/step - loss: 0.5596 - accuracy: 0.3592 - val_loss: 0.6048 - val_accuracy: 0.3706\n",
      "Epoch 47/100\n",
      "2275/2275 [==============================] - 3s 1ms/step - loss: 0.5589 - accuracy: 0.3598 - val_loss: 0.6051 - val_accuracy: 0.3633\n",
      "Epoch 48/100\n",
      "2275/2275 [==============================] - 3s 1ms/step - loss: 0.5582 - accuracy: 0.3594 - val_loss: 0.6039 - val_accuracy: 0.3656\n",
      "Epoch 49/100\n",
      "2275/2275 [==============================] - 3s 1ms/step - loss: 0.5578 - accuracy: 0.3603 - val_loss: 0.6030 - val_accuracy: 0.3722\n",
      "Epoch 50/100\n",
      "2275/2275 [==============================] - 3s 1ms/step - loss: 0.5574 - accuracy: 0.3601 - val_loss: 0.6020 - val_accuracy: 0.3674\n",
      "Epoch 51/100\n",
      "2275/2275 [==============================] - 3s 1ms/step - loss: 0.5570 - accuracy: 0.3620 - val_loss: 0.6029 - val_accuracy: 0.3645\n",
      "Epoch 52/100\n",
      "2275/2275 [==============================] - 3s 1ms/step - loss: 0.5567 - accuracy: 0.3618 - val_loss: 0.6019 - val_accuracy: 0.3683\n",
      "Epoch 53/100\n",
      "2275/2275 [==============================] - 4s 2ms/step - loss: 0.5570 - accuracy: 0.3618 - val_loss: 0.6026 - val_accuracy: 0.3619\n",
      "Epoch 54/100\n",
      "2275/2275 [==============================] - 3s 1ms/step - loss: 0.5568 - accuracy: 0.3619 - val_loss: 0.6016 - val_accuracy: 0.3672\n",
      "Epoch 55/100\n",
      "2275/2275 [==============================] - 3s 1ms/step - loss: 0.5557 - accuracy: 0.3627 - val_loss: 0.6017 - val_accuracy: 0.3741\n",
      "Epoch 56/100\n",
      "2275/2275 [==============================] - 2s 1ms/step - loss: 0.5555 - accuracy: 0.3631 - val_loss: 0.6008 - val_accuracy: 0.3711\n",
      "Epoch 57/100\n",
      "2275/2275 [==============================] - 3s 1ms/step - loss: 0.5550 - accuracy: 0.3640 - val_loss: 0.6010 - val_accuracy: 0.3714\n",
      "Epoch 58/100\n",
      "2275/2275 [==============================] - 3s 1ms/step - loss: 0.5549 - accuracy: 0.3644 - val_loss: 0.5995 - val_accuracy: 0.3653\n",
      "Epoch 59/100\n",
      "2275/2275 [==============================] - 3s 1ms/step - loss: 0.5545 - accuracy: 0.3653 - val_loss: 0.6009 - val_accuracy: 0.3725\n",
      "Epoch 60/100\n",
      "2275/2275 [==============================] - 3s 1ms/step - loss: 0.5551 - accuracy: 0.3663 - val_loss: 0.5998 - val_accuracy: 0.3665\n",
      "Epoch 61/100\n",
      "2275/2275 [==============================] - 3s 1ms/step - loss: 0.5542 - accuracy: 0.3665 - val_loss: 0.5996 - val_accuracy: 0.3750\n",
      "Epoch 62/100\n",
      "2275/2275 [==============================] - 3s 1ms/step - loss: 0.5540 - accuracy: 0.3682 - val_loss: 0.5996 - val_accuracy: 0.3695\n",
      "Epoch 63/100\n",
      "2275/2275 [==============================] - 3s 1ms/step - loss: 0.5538 - accuracy: 0.3684 - val_loss: 0.5990 - val_accuracy: 0.3726\n",
      "Epoch 64/100\n",
      "2275/2275 [==============================] - 3s 1ms/step - loss: 0.5543 - accuracy: 0.3688 - val_loss: 0.5987 - val_accuracy: 0.3709\n",
      "Epoch 65/100\n",
      "2275/2275 [==============================] - 3s 1ms/step - loss: 0.5534 - accuracy: 0.3697 - val_loss: 0.5982 - val_accuracy: 0.3753\n",
      "Epoch 66/100\n",
      "2275/2275 [==============================] - 3s 1ms/step - loss: 0.5530 - accuracy: 0.3700 - val_loss: 0.5999 - val_accuracy: 0.3748\n",
      "Epoch 67/100\n",
      "2275/2275 [==============================] - 3s 1ms/step - loss: 0.5530 - accuracy: 0.3708 - val_loss: 0.5979 - val_accuracy: 0.3738\n",
      "Epoch 68/100\n",
      "2275/2275 [==============================] - 3s 1ms/step - loss: 0.5527 - accuracy: 0.3717 - val_loss: 0.5979 - val_accuracy: 0.3801\n",
      "Epoch 69/100\n",
      "2275/2275 [==============================] - 5s 2ms/step - loss: 0.5525 - accuracy: 0.3709 - val_loss: 0.6000 - val_accuracy: 0.3793\n",
      "Epoch 70/100\n",
      "2275/2275 [==============================] - 5s 2ms/step - loss: 0.5525 - accuracy: 0.3724 - val_loss: 0.5972 - val_accuracy: 0.3815\n",
      "Epoch 71/100\n",
      "2275/2275 [==============================] - 3s 1ms/step - loss: 0.5522 - accuracy: 0.3728 - val_loss: 0.5971 - val_accuracy: 0.3783\n",
      "Epoch 72/100\n",
      "2275/2275 [==============================] - 3s 1ms/step - loss: 0.5520 - accuracy: 0.3740 - val_loss: 0.5974 - val_accuracy: 0.3753\n",
      "Epoch 73/100\n",
      "2275/2275 [==============================] - 3s 1ms/step - loss: 0.5516 - accuracy: 0.3741 - val_loss: 0.5971 - val_accuracy: 0.3794\n",
      "Epoch 74/100\n",
      "2275/2275 [==============================] - 3s 1ms/step - loss: 0.5515 - accuracy: 0.3744 - val_loss: 0.5987 - val_accuracy: 0.3777\n",
      "Epoch 75/100\n",
      "2275/2275 [==============================] - 3s 2ms/step - loss: 0.5513 - accuracy: 0.3753 - val_loss: 0.5968 - val_accuracy: 0.3787\n",
      "Epoch 76/100\n",
      "2275/2275 [==============================] - 4s 2ms/step - loss: 0.5510 - accuracy: 0.3754 - val_loss: 0.5959 - val_accuracy: 0.3825\n",
      "Epoch 77/100\n",
      "2275/2275 [==============================] - 3s 1ms/step - loss: 0.5507 - accuracy: 0.3754 - val_loss: 0.5954 - val_accuracy: 0.3843\n",
      "Epoch 78/100\n",
      "2275/2275 [==============================] - 3s 1ms/step - loss: 0.5503 - accuracy: 0.3750 - val_loss: 0.5953 - val_accuracy: 0.3800\n",
      "Epoch 79/100\n",
      "2275/2275 [==============================] - 3s 1ms/step - loss: 0.5499 - accuracy: 0.3738 - val_loss: 0.5944 - val_accuracy: 0.3777\n",
      "Epoch 80/100\n",
      "2275/2275 [==============================] - 3s 1ms/step - loss: 0.5493 - accuracy: 0.3751 - val_loss: 0.5940 - val_accuracy: 0.3786\n",
      "Epoch 81/100\n",
      "2275/2275 [==============================] - 3s 1ms/step - loss: 0.5491 - accuracy: 0.3752 - val_loss: 0.5941 - val_accuracy: 0.3767\n",
      "Epoch 82/100\n",
      "2275/2275 [==============================] - 3s 1ms/step - loss: 0.5490 - accuracy: 0.3739 - val_loss: 0.5940 - val_accuracy: 0.3842\n",
      "Epoch 83/100\n",
      "2275/2275 [==============================] - 3s 1ms/step - loss: 0.5484 - accuracy: 0.3748 - val_loss: 0.5932 - val_accuracy: 0.3746\n",
      "Epoch 84/100\n",
      "2275/2275 [==============================] - 3s 1ms/step - loss: 0.5483 - accuracy: 0.3745 - val_loss: 0.5934 - val_accuracy: 0.3812\n",
      "Epoch 85/100\n",
      "2275/2275 [==============================] - 3s 1ms/step - loss: 0.5477 - accuracy: 0.3743 - val_loss: 0.5931 - val_accuracy: 0.3748\n",
      "Epoch 86/100\n",
      "2275/2275 [==============================] - 3s 1ms/step - loss: 0.5480 - accuracy: 0.3753 - val_loss: 0.5917 - val_accuracy: 0.3792\n",
      "Epoch 87/100\n",
      "2275/2275 [==============================] - 3s 1ms/step - loss: 0.5481 - accuracy: 0.3742 - val_loss: 0.5916 - val_accuracy: 0.3834\n",
      "Epoch 88/100\n",
      "2275/2275 [==============================] - 2s 1ms/step - loss: 0.5470 - accuracy: 0.3744 - val_loss: 0.5910 - val_accuracy: 0.3785\n",
      "Epoch 89/100\n",
      "2275/2275 [==============================] - 3s 1ms/step - loss: 0.5467 - accuracy: 0.3748 - val_loss: 0.5920 - val_accuracy: 0.3833\n",
      "Epoch 90/100\n",
      "2275/2275 [==============================] - 3s 1ms/step - loss: 0.5468 - accuracy: 0.3745 - val_loss: 0.5927 - val_accuracy: 0.3804\n",
      "Epoch 91/100\n",
      "2275/2275 [==============================] - 3s 1ms/step - loss: 0.5461 - accuracy: 0.3736 - val_loss: 0.5911 - val_accuracy: 0.3798\n",
      "Epoch 92/100\n",
      "2275/2275 [==============================] - 3s 1ms/step - loss: 0.5460 - accuracy: 0.3742 - val_loss: 0.5905 - val_accuracy: 0.3784\n",
      "Epoch 93/100\n",
      "2275/2275 [==============================] - 2s 1ms/step - loss: 0.5457 - accuracy: 0.3735 - val_loss: 0.5909 - val_accuracy: 0.3757\n",
      "Epoch 94/100\n",
      "2275/2275 [==============================] - 2s 1ms/step - loss: 0.5453 - accuracy: 0.3730 - val_loss: 0.5917 - val_accuracy: 0.3796\n",
      "Epoch 95/100\n",
      "2275/2275 [==============================] - 3s 1ms/step - loss: 0.5453 - accuracy: 0.3736 - val_loss: 0.5900 - val_accuracy: 0.3782\n",
      "Epoch 96/100\n",
      "2275/2275 [==============================] - 3s 1ms/step - loss: 0.5449 - accuracy: 0.3732 - val_loss: 0.5898 - val_accuracy: 0.3791\n",
      "Epoch 97/100\n",
      "2275/2275 [==============================] - 3s 1ms/step - loss: 0.5447 - accuracy: 0.3737 - val_loss: 0.5901 - val_accuracy: 0.3767\n",
      "Epoch 98/100\n",
      "2275/2275 [==============================] - 3s 1ms/step - loss: 0.5449 - accuracy: 0.3732 - val_loss: 0.5891 - val_accuracy: 0.3773\n",
      "Epoch 99/100\n",
      "2275/2275 [==============================] - 3s 1ms/step - loss: 0.5443 - accuracy: 0.3725 - val_loss: 0.5894 - val_accuracy: 0.3766\n",
      "Epoch 100/100\n",
      "2275/2275 [==============================] - 2s 1ms/step - loss: 0.5442 - accuracy: 0.3720 - val_loss: 0.5893 - val_accuracy: 0.3790\n"
     ]
    }
   ],
   "source": [
    "history = vae.fit(X_train, X_train,\n",
    "                    epochs=2*epochs,\n",
    "                    batch_size=batch_size,\n",
    "                    shuffle=True,\n",
    "                    validation_data=(X_test, X_test),\n",
    "                    verbose=1).history"
   ]
  },
  {
   "cell_type": "markdown",
   "id": "e444a776",
   "metadata": {},
   "source": [
    "## (3) Reconstruction Error"
   ]
  },
  {
   "cell_type": "code",
   "execution_count": 20,
   "id": "6a38ffd4",
   "metadata": {},
   "outputs": [
    {
     "name": "stdout",
     "output_type": "stream",
     "text": [
      "1781/1781 [==============================] - 1s 735us/step\n",
      "Full Sample        reconstruction_error    true_class\n",
      "count          56962.000000  56962.000000\n",
      "mean               0.587870      0.001826\n",
      "std                3.875372      0.042690\n",
      "min                0.015369      0.000000\n",
      "25%                0.124252      0.000000\n",
      "50%                0.225738      0.000000\n",
      "75%                0.414081      0.000000\n",
      "max              447.398434      1.000000\n",
      "Normal Sample        reconstruction_error  true_class\n",
      "count          56858.000000     56858.0\n",
      "mean               0.543117         0.0\n",
      "std                3.499689         0.0\n",
      "min                0.015369         0.0\n",
      "25%                0.124120         0.0\n",
      "50%                0.225364         0.0\n",
      "75%                0.412103         0.0\n",
      "max              447.398434         0.0\n",
      "Fraud Sample        reconstruction_error  true_class\n",
      "count            104.000000       104.0\n",
      "mean              25.054943         1.0\n",
      "std               30.644000         0.0\n",
      "min                0.051725         1.0\n",
      "25%                4.585962         1.0\n",
      "50%               10.162259         1.0\n",
      "75%               27.614262         1.0\n",
      "max              147.495783         1.0\n"
     ]
    }
   ],
   "source": [
    "##########################################\n",
    "# prediction & reconstruction error\n",
    "##########################################\n",
    "predictions = vae.predict(X_test)\n",
    "mse = np.mean(np.power(X_test - predictions, 2), axis=1)\n",
    "error_df = pd.DataFrame({'reconstruction_error': mse, 'true_class': y_test})\n",
    "print(\"Full Sample\",error_df.describe())\n",
    "error_df_true = error_df[(error_df['true_class']== 0)]\n",
    "print(\"Normal Sample\",error_df_true.describe())\n",
    "error_df_false = error_df[(error_df['true_class']== 1)]\n",
    "print(\"Fraud Sample\",error_df_false.describe())"
   ]
  },
  {
   "cell_type": "markdown",
   "id": "093c013b",
   "metadata": {},
   "source": [
    "## Post Analysis"
   ]
  },
  {
   "cell_type": "code",
   "execution_count": 21,
   "id": "433a2af2",
   "metadata": {},
   "outputs": [],
   "source": [
    "from sklearn.metrics import (confusion_matrix, precision_recall_curve, auc,\n",
    "                             roc_curve, recall_score, classification_report, f1_score,\n",
    "                             precision_recall_fscore_support)"
   ]
  },
  {
   "cell_type": "code",
   "execution_count": 22,
   "id": "f2c4a9b4",
   "metadata": {},
   "outputs": [
    {
     "data": {
      "image/png": "[encoded data removed]",
      "text/plain": [
       "<Figure size 1080x720 with 1 Axes>"
      ]
     },
     "metadata": {
      "needs_background": "light"
     },
     "output_type": "display_data"
    }
   ],
   "source": [
    "# scatter plot\n",
    "threshold = 0.9\n",
    "groups = error_df.groupby('true_class')\n",
    "fig, ax = plt.subplots(figsize=(15, 10))\n",
    "\n",
    "for name, group in groups:\n",
    "    ax.plot(group.index, group.reconstruction_error, marker='o', ms=3.5, linestyle='',\n",
    "            label= \"Fraud\" if name == 1 else \"Normal\")\n",
    "ax.hlines(threshold, ax.get_xlim()[0], ax.get_xlim()[1], colors=\"r\", zorder=100, label='Threshold')\n",
    "ax.legend()\n",
    "plt.title(\"Reconstruction error for different classes\")\n",
    "plt.ylabel(\"Reconstruction error\")\n",
    "plt.xlabel(\"Data point index\")\n",
    "plt.show();"
   ]
  },
  {
   "cell_type": "code",
   "execution_count": 23,
   "id": "2c1ec288",
   "metadata": {},
   "outputs": [
    {
     "data": {
      "image/png": "[encoded data removed]",
      "text/plain": [
       "<Figure size 576x576 with 2 Axes>"
      ]
     },
     "metadata": {
      "needs_background": "light"
     },
     "output_type": "display_data"
    }
   ],
   "source": [
    "# confusion matrix\n",
    "threshold = 0.9\n",
    "# And see how well we're dividing the two types of transactions:\n",
    "groups = error_df.groupby('true_class')\n",
    "# predict fraud\n",
    "y_pred = [1 if e > threshold else 0 for e in error_df.reconstruction_error.values]\n",
    "conf_matrix = confusion_matrix(error_df.true_class, y_pred)\n",
    "# plot confusion matrix\n",
    "plt.figure(figsize=(8, 8))\n",
    "sns.heatmap(conf_matrix, xticklabels=LABELS, yticklabels=LABELS, annot=True, fmt=\"d\");\n",
    "plt.title(\"Confusion matrix\")\n",
    "plt.ylabel('True Class')\n",
    "plt.xlabel('Predicted Class')\n",
    "plt.show()"
   ]
  },
  {
   "cell_type": "code",
   "execution_count": 24,
   "id": "e743ff6b",
   "metadata": {},
   "outputs": [
    {
     "data": {
      "image/png": "[encoded data removed]",
      "text/plain": [
       "<Figure size 432x288 with 1 Axes>"
      ]
     },
     "metadata": {
      "needs_background": "light"
     },
     "output_type": "display_data"
    }
   ],
   "source": [
    "# ROC\n",
    "fpr, tpr, thresholds = roc_curve(error_df.true_class, error_df.reconstruction_error)\n",
    "roc_auc = auc(fpr, tpr)\n",
    "# plot\n",
    "plt.title('Receiver Operating Characteristic')\n",
    "plt.plot(fpr, tpr, label='AUC = %0.4f'% roc_auc)\n",
    "plt.legend(loc='lower right')\n",
    "plt.plot([0,1],[0,1],'r--')\n",
    "plt.xlim([-0.001, 1])\n",
    "plt.ylim([0, 1.001])\n",
    "plt.ylabel('True Positive Rate')\n",
    "plt.xlabel('False Positive Rate')\n",
    "plt.show();"
   ]
  },
  {
   "cell_type": "code",
   "execution_count": 43,
   "id": "3cb2df88",
   "metadata": {},
   "outputs": [
    {
     "name": "stdout",
     "output_type": "stream",
     "text": [
      "1563/1563 [==============================] - 1s 545us/step\n"
     ]
    }
   ],
   "source": [
    "random_samples = np.random.normal(size=(50000, latent_dim))\n",
    "\n",
    "std = np.array(std)\n",
    "mean = np.array(mean)\n",
    "\n",
    "generated_data = decoder.predict(random_samples) * std + mean"
   ]
  },
  {
   "cell_type": "code",
   "execution_count": 44,
   "id": "47f91f7f",
   "metadata": {},
   "outputs": [
    {
     "name": "stdout",
     "output_type": "stream",
     "text": [
      "[[ 1.48348971e+00  8.90967155e-01 -6.63166856e-01 ... -7.59588384e-04\n",
      "   2.47153410e-01  8.96505668e+01]\n",
      " [-1.90785200e+00 -6.82466405e-01 -1.20827786e+00 ... -3.09952602e-01\n",
      "  -3.24283662e-01  8.07576135e+01]\n",
      " [-1.49900191e+00  1.15327972e+00 -2.57663908e-01 ... -2.85108152e-01\n",
      "  -2.38347573e-02  9.47610225e+01]\n",
      " ...\n",
      " [ 1.14638448e+00  7.09307408e-01 -1.19688752e+00 ... -2.66691387e-01\n",
      "   1.40470978e-01  7.73813703e+01]\n",
      " [ 1.24926871e+00  6.74512865e-01 -1.15222123e+00 ... -1.08377561e-01\n",
      "   2.29528087e-01  9.28501108e+01]\n",
      " [ 1.02918488e+00  1.13988413e+00 -1.07262988e+00 ... -2.64580005e-01\n",
      "   2.22672365e-01  1.22216952e+02]]\n"
     ]
    }
   ],
   "source": [
    "print(generated_data)"
   ]
  },
  {
   "cell_type": "code",
   "execution_count": 45,
   "id": "9e72df54",
   "metadata": {},
   "outputs": [
    {
     "data": {
      "text/plain": [
       "(50000, 29)"
      ]
     },
     "execution_count": 45,
     "metadata": {},
     "output_type": "execute_result"
    }
   ],
   "source": [
    "generated_data.shape"
   ]
  },
  {
   "cell_type": "code",
   "execution_count": 46,
   "id": "6789bcb4",
   "metadata": {},
   "outputs": [
    {
     "data": {
      "text/plain": [
       "(227457, 29)"
      ]
     },
     "execution_count": 46,
     "metadata": {},
     "output_type": "execute_result"
    }
   ],
   "source": [
    "X_train.shape"
   ]
  },
  {
   "cell_type": "code",
   "execution_count": 47,
   "id": "9c001833",
   "metadata": {},
   "outputs": [],
   "source": [
    "new_dataset = np.concatenate((X_train, generated_data), axis=0)"
   ]
  },
  {
   "cell_type": "code",
   "execution_count": 48,
   "id": "722e34ae",
   "metadata": {},
   "outputs": [
    {
     "data": {
      "text/plain": [
       "(277457, 29)"
      ]
     },
     "execution_count": 48,
     "metadata": {},
     "output_type": "execute_result"
    }
   ],
   "source": [
    "new_dataset.shape"
   ]
  },
  {
   "cell_type": "code",
   "execution_count": null,
   "id": "ee6a8cee",
   "metadata": {},
   "outputs": [],
   "source": []
  }
 ],
 "metadata": {
  "kernelspec": {
   "display_name": "Python 3 (ipykernel)",
   "language": "python",
   "name": "python3"
  },
  "language_info": {
   "codemirror_mode": {
    "name": "ipython",
    "version": 3
   },
   "file_extension": ".py",
   "mimetype": "text/x-python",
   "name": "python",
   "nbconvert_exporter": "python",
   "pygments_lexer": "ipython3",
   "version": "3.9.12"
  }
 },
 "nbformat": 4,
 "nbformat_minor": 5
}
